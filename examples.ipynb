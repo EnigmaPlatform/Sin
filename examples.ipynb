# %% [markdown]
# # Примеры использования Sin AI

# %%
from sin_ai.core.network import SinNetwork
sin = SinNetwork()

# %%
# Простой чат
response = sin.communicate("Напиши короткое стихотворение про ИИ")
print(response)

# %%
# Обучение на собственном коде
code = """
def greet(name):
    return f"Привет, {name}!"
"""
sin.learn_from_code(code, "python")

# %%
# Проверка обучения
response = sin.communicate("У тебя есть функция greet?")
print(response)
